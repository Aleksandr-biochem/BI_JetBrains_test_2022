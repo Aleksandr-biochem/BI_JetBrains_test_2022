{
 "cells": [
  {
   "cell_type": "code",
   "execution_count": 13,
   "id": "2c9cff60",
   "metadata": {},
   "outputs": [],
   "source": [
    "import os\n",
    "\n",
    "# временно останавливаем tf logs\n",
    "os.environ[\"TF_CPP_MIN_LOG_LEVEL\"] = \"3\"\n",
    "\n",
    "import numpy as np\n",
    "import pandas as pd\n",
    "import matplotlib.pyplot as plt\n",
    "%matplotlib inline\n",
    "import seaborn as sns\n",
    "\n",
    "import rdkit\n",
    "from rdkit import Chem\n",
    "from rdkit.Chem import AllChem\n",
    "from rdkit import rdBase\n",
    "from rdkit.Chem.rdchem import HybridizationType\n",
    "from rdkit import RDConfig\n",
    "from rdkit.Chem import ChemicalFeatures\n",
    "from rdkit.Chem.rdchem import BondType as BT\n",
    "from rdkit.Chem import Draw\n",
    "from IPython.display import display,Image\n",
    "rdBase.DisableLog('rdApp.error')"
   ]
  },
  {
   "cell_type": "markdown",
   "id": "986831f7",
   "metadata": {},
   "source": [
    "Датасет содержит информацию об экспериментальных (expt) и рассчетных (calc) энергиях гидратации небольших органических молекул. Всего 642 молекулы   \n",
    "**В целевой модели: инпут - SMILES, аутпут - expt** "
   ]
  },
  {
   "cell_type": "code",
   "execution_count": 2,
   "id": "ff6548be",
   "metadata": {},
   "outputs": [
    {
     "data": {
      "text/html": [
       "<div>\n",
       "<style scoped>\n",
       "    .dataframe tbody tr th:only-of-type {\n",
       "        vertical-align: middle;\n",
       "    }\n",
       "\n",
       "    .dataframe tbody tr th {\n",
       "        vertical-align: top;\n",
       "    }\n",
       "\n",
       "    .dataframe thead th {\n",
       "        text-align: right;\n",
       "    }\n",
       "</style>\n",
       "<table border=\"1\" class=\"dataframe\">\n",
       "  <thead>\n",
       "    <tr style=\"text-align: right;\">\n",
       "      <th></th>\n",
       "      <th>iupac</th>\n",
       "      <th>smiles</th>\n",
       "      <th>expt</th>\n",
       "      <th>calc</th>\n",
       "    </tr>\n",
       "  </thead>\n",
       "  <tbody>\n",
       "    <tr>\n",
       "      <th>0</th>\n",
       "      <td>4-methoxy-N,N-dimethyl-benzamide</td>\n",
       "      <td>CN(C)C(=O)c1ccc(cc1)OC</td>\n",
       "      <td>-11.01</td>\n",
       "      <td>-9.625</td>\n",
       "    </tr>\n",
       "    <tr>\n",
       "      <th>1</th>\n",
       "      <td>methanesulfonyl chloride</td>\n",
       "      <td>CS(=O)(=O)Cl</td>\n",
       "      <td>-4.87</td>\n",
       "      <td>-6.219</td>\n",
       "    </tr>\n",
       "    <tr>\n",
       "      <th>2</th>\n",
       "      <td>3-methylbut-1-ene</td>\n",
       "      <td>CC(C)C=C</td>\n",
       "      <td>1.83</td>\n",
       "      <td>2.452</td>\n",
       "    </tr>\n",
       "    <tr>\n",
       "      <th>3</th>\n",
       "      <td>2-ethylpyrazine</td>\n",
       "      <td>CCc1cnccn1</td>\n",
       "      <td>-5.45</td>\n",
       "      <td>-5.809</td>\n",
       "    </tr>\n",
       "    <tr>\n",
       "      <th>4</th>\n",
       "      <td>heptan-1-ol</td>\n",
       "      <td>CCCCCCCO</td>\n",
       "      <td>-4.21</td>\n",
       "      <td>-2.917</td>\n",
       "    </tr>\n",
       "    <tr>\n",
       "      <th>...</th>\n",
       "      <td>...</td>\n",
       "      <td>...</td>\n",
       "      <td>...</td>\n",
       "      <td>...</td>\n",
       "    </tr>\n",
       "    <tr>\n",
       "      <th>637</th>\n",
       "      <td>methyl octanoate</td>\n",
       "      <td>CCCCCCCC(=O)OC</td>\n",
       "      <td>-2.04</td>\n",
       "      <td>-3.035</td>\n",
       "    </tr>\n",
       "    <tr>\n",
       "      <th>638</th>\n",
       "      <td>pyrrolidine</td>\n",
       "      <td>C1CCNC1</td>\n",
       "      <td>-5.48</td>\n",
       "      <td>-4.278</td>\n",
       "    </tr>\n",
       "    <tr>\n",
       "      <th>639</th>\n",
       "      <td>4-hydroxybenzaldehyde</td>\n",
       "      <td>c1cc(ccc1C=O)O</td>\n",
       "      <td>-8.83</td>\n",
       "      <td>-10.050</td>\n",
       "    </tr>\n",
       "    <tr>\n",
       "      <th>640</th>\n",
       "      <td>1-chloroheptane</td>\n",
       "      <td>CCCCCCCCl</td>\n",
       "      <td>0.29</td>\n",
       "      <td>1.467</td>\n",
       "    </tr>\n",
       "    <tr>\n",
       "      <th>641</th>\n",
       "      <td>1,4-dioxane</td>\n",
       "      <td>C1COCCO1</td>\n",
       "      <td>-5.06</td>\n",
       "      <td>-4.269</td>\n",
       "    </tr>\n",
       "  </tbody>\n",
       "</table>\n",
       "<p>642 rows × 4 columns</p>\n",
       "</div>"
      ],
      "text/plain": [
       "                                iupac                  smiles   expt    calc\n",
       "0    4-methoxy-N,N-dimethyl-benzamide  CN(C)C(=O)c1ccc(cc1)OC -11.01  -9.625\n",
       "1            methanesulfonyl chloride            CS(=O)(=O)Cl  -4.87  -6.219\n",
       "2                   3-methylbut-1-ene                CC(C)C=C   1.83   2.452\n",
       "3                     2-ethylpyrazine              CCc1cnccn1  -5.45  -5.809\n",
       "4                         heptan-1-ol                CCCCCCCO  -4.21  -2.917\n",
       "..                                ...                     ...    ...     ...\n",
       "637                  methyl octanoate          CCCCCCCC(=O)OC  -2.04  -3.035\n",
       "638                       pyrrolidine                 C1CCNC1  -5.48  -4.278\n",
       "639             4-hydroxybenzaldehyde          c1cc(ccc1C=O)O  -8.83 -10.050\n",
       "640                   1-chloroheptane               CCCCCCCCl   0.29   1.467\n",
       "641                       1,4-dioxane                C1COCCO1  -5.06  -4.269\n",
       "\n",
       "[642 rows x 4 columns]"
      ]
     },
     "execution_count": 2,
     "metadata": {},
     "output_type": "execute_result"
    }
   ],
   "source": [
    "# загрузка данных для тренировки модели по ссылке\n",
    "molecules_data = pd.read_csv('https://deepchemdata.s3-us-west-1.amazonaws.com/datasets/SAMPL.csv')\n",
    "molecules_data"
   ]
  },
  {
   "cell_type": "code",
   "execution_count": 3,
   "id": "ba82114c",
   "metadata": {},
   "outputs": [
    {
     "name": "stdout",
     "output_type": "stream",
     "text": [
      "<class 'pandas.core.frame.DataFrame'>\n",
      "RangeIndex: 642 entries, 0 to 641\n",
      "Data columns (total 4 columns):\n",
      " #   Column  Non-Null Count  Dtype  \n",
      "---  ------  --------------  -----  \n",
      " 0   iupac   642 non-null    object \n",
      " 1   smiles  642 non-null    object \n",
      " 2   expt    642 non-null    float64\n",
      " 3   calc    642 non-null    float64\n",
      "dtypes: float64(2), object(2)\n",
      "memory usage: 20.2+ KB\n"
     ]
    }
   ],
   "source": [
    "# краткая проверка данных на наличие пропущенных значений\n",
    "molecules_data.info()"
   ]
  },
  {
   "cell_type": "code",
   "execution_count": 4,
   "id": "098c02ad",
   "metadata": {},
   "outputs": [
    {
     "name": "stdout",
     "output_type": "stream",
     "text": [
      "             expt        calc\n",
      "count  642.000000  642.000000\n",
      "mean    -3.803006   -3.486223\n",
      "std      3.847820    4.186301\n",
      "min    -25.470000  -21.762000\n",
      "25%     -5.727500   -5.421500\n",
      "50%     -3.530000   -3.053500\n",
      "75%     -1.215000   -0.480750\n",
      "max      3.430000    3.335000\n"
     ]
    },
    {
     "data": {
      "text/plain": [
       "Text(0.5, 1.0, \"Распределение переменной 'expt' в датасете\")"
      ]
     },
     "execution_count": 4,
     "metadata": {},
     "output_type": "execute_result"
    },
    {
     "data": {
      "image/png": "[encoded data removed]",
      "text/plain": [
       "<Figure size 720x720 with 1 Axes>"
      ]
     },
     "metadata": {
      "needs_background": "light"
     },
     "output_type": "display_data"
    }
   ],
   "source": [
    "# описательная информация\n",
    "print(molecules_data.describe())\n",
    "\n",
    "# визуализация распределения целевой переменной\n",
    "plt.figure(figsize=(10,10))\n",
    "sns.histplot(molecules_data['expt'], binwidth=0.5, kde=True)\n",
    "\n",
    "plt.xlabel(\"Экспериментальная энергия гидратации\") # Text for X-Axis\n",
    "plt.ylabel(\"Плотность\") # Text for Y-Axis\n",
    "plt.title(\"Распределение переменной 'expt' в датасете\")"
   ]
  },
  {
   "cell_type": "markdown",
   "id": "cdead639",
   "metadata": {},
   "source": [
    "Видно, что данные охватывают широкий диапазон значений энергий. При этом 75% энергий имеют значение больше -5.7, выборка имеет \"хвост\" в виде набора соединений с относительно низкими энергиями. Это важно учесть при разюиении данных и анализе результатов обучения.  "
   ]
  },
  {
   "cell_type": "code",
   "execution_count": 9,
   "id": "fb1e4da8",
   "metadata": {},
   "outputs": [
    {
     "name": "stdout",
     "output_type": "stream",
     "text": [
      "C N O S Cl Br P F I\n"
     ]
    }
   ],
   "source": [
    "# рассмотрим, какие атомы у нас есть среди молекул\n",
    "present_atoms = []\n",
    "for m in molecules_data.smiles:\n",
    "    mol = Chem.rdmolfiles.MolFromSmiles(m)\n",
    "    for a in mol.GetAtoms():\n",
    "        if a.GetSymbol() not in present_atoms:\n",
    "            present_atoms.append(a.GetSymbol())\n",
    "    \n",
    "print(*present_atoms)"
   ]
  },
  {
   "cell_type": "markdown",
   "id": "cce4e24f",
   "metadata": {},
   "source": [
    "### Перейдем к подготовке данных для обучения    \n",
    "Дальнешая подготовка молекулярных графов выполнена на основе кода: https://git.rwth-aachen.de/avt-svt/public/graph_neural_network_for_fuel_ignition_quality\n",
    "\n",
    "Для подготовки графовой репрезентации используем RDKit."
   ]
  },
  {
   "cell_type": "code",
   "execution_count": 27,
   "id": "5ab45528",
   "metadata": {},
   "outputs": [],
   "source": [
    "# оформим генерацию данных в виде функции\n",
    "# строки, включающие элементы для pytorch не активны\n",
    "\n",
    "def generate_graphs(molecules_data):    \n",
    "    # целевая переменная expt\n",
    "    target = molecules_data.expt\n",
    "    # трансформация данных в формат для pytorch \n",
    "    # target = torch.tensor(target, dtype=torch.float)\n",
    "\n",
    "    molecules =[]\n",
    "\n",
    "    # герерация mol объектов для SMILES из нашего дата-сета\n",
    "    for s in molecules_data.smiles:\n",
    "        mol = Chem.rdmolfiles.MolFromSmiles(s)\n",
    "        mol = Chem.AddHs(mol)   # добавим атомы водорода, иначе будут молекулы всего с 1 атомом\n",
    "        molecules.append(mol)\n",
    "\n",
    "    max_len = 0 # переменная для записи smiles молекул в виде ascii\n",
    "    data_list = [] # сгенерированные графы\n",
    "    \n",
    "    # типы атомов и связей закодируем следующим образом:\n",
    "    atom_types = {'H': 0, 'C': 1, 'N': 2, 'O': 3, 'S':4,\n",
    "             'Cl': 5, 'Br': 6, 'P': 7, 'F': 8, 'I': 9} # atom types\n",
    "    bonds_types = {BT.SINGLE: 0, BT.DOUBLE: 1, BT.TRIPLE: 2, BT.AROMATIC: 3} # типы связей\n",
    "\n",
    "    \n",
    "    for i, mol in enumerate(molecules):\n",
    "\n",
    "        N = mol.GetNumAtoms()\n",
    "        # филтр на наличие более одного атома в молекуле (в графе хотя бы одна связь)\n",
    "        if N <= 1:\n",
    "            print('Warning: molecule skipped because it contains only 1 atom')\n",
    "            continue\n",
    "\n",
    "\n",
    "        # фичи атомов, которые будут записаны в граф\n",
    "        type_idx = []\n",
    "        aromatic = []\n",
    "        ring = []\n",
    "        sp = []\n",
    "        sp2 = []\n",
    "        sp3 = []\n",
    "        sp3d = []\n",
    "        sp3d2 = []\n",
    "        num_hs = []\n",
    "        num_neighbors = []\n",
    "\n",
    "        for atom in mol.GetAtoms():\n",
    "            type_idx.append(atom_types[atom.GetSymbol()])\n",
    "            aromatic.append(1 if atom.GetIsAromatic() else 0)\n",
    "            ring.append(1 if atom.IsInRing() else 0)\n",
    "            hybridization = atom.GetHybridization()\n",
    "            sp.append(1 if hybridization == HybridizationType.SP else 0)\n",
    "            sp2.append(1 if hybridization == HybridizationType.SP2 else 0)\n",
    "            sp3.append(1 if hybridization == HybridizationType.SP3 else 0)\n",
    "            sp3d.append(1 if hybridization == HybridizationType.SP3D else 0)\n",
    "            sp3d2.append(1 if hybridization == HybridizationType.SP3D2 else 0)\n",
    "            num_hs.append(atom.GetTotalNumHs(includeNeighbors=True))\n",
    "            num_neighbors.append(len(atom.GetNeighbors()))\n",
    "\n",
    "        # дальше инпут можно было бы трансформировать во всодные данные для pytorch\n",
    "        \"\"\"\n",
    "        x1 = F.one_hot(torch.tensor(type_idx), num_classes=len(self.types))\n",
    "        x2 = torch.tensor([aromatic, ring, sp, sp2, sp3, sp3d, sp3d2], dtype=torch.float).t().contiguous()\n",
    "        x3 = F.one_hot(torch.tensor(num_neighbors), num_classes=6)\n",
    "        x4 = F.one_hot(torch.tensor(num_hs), num_classes=5)\n",
    "        x = torch.cat([x1.to(torch.float), x2, x3.to(torch.float),x4.to(torch.float)], dim=-1)\n",
    "        \"\"\"\n",
    "\n",
    "        # фичи связей\n",
    "        row, col, bond_idx, conj, ring, stereo = [], [], [], [], [], []\n",
    "        # двойная запись свойств соответствует ненаправленности связи\n",
    "        for bond in mol.GetBonds():\n",
    "            start, end = bond.GetBeginAtomIdx(), bond.GetEndAtomIdx()\n",
    "            row += [start, end]\n",
    "            col += [end, start]\n",
    "            bond_idx += 2 * [bonds_types[bond.GetBondType()]]\n",
    "            conj.append(bond.GetIsConjugated())\n",
    "            conj.append(bond.GetIsConjugated())\n",
    "            ring.append(bond.IsInRing())\n",
    "            ring.append(bond.IsInRing())\n",
    "            stereo.append(bond.GetStereo())\n",
    "            stereo.append(bond.GetStereo())\n",
    "\n",
    "        # аналогично трансформация для данных о связях \n",
    "        \"\"\"\n",
    "        edge_index = torch.tensor([row, col], dtype=torch.long)\n",
    "        e1 = F.one_hot(torch.tensor(bond_idx),num_classes=len(self.bonds)).to(torch.float)\n",
    "        e2 = torch.tensor([conj, ring], dtype=torch.float).t().contiguous()\n",
    "        e3 = F.one_hot(torch.tensor(stereo),num_classes=6).to(torch.float)\n",
    "        edge_attr = torch.cat([e1, e2, e3], dim=-1)\n",
    "        edge_index, edge_attr = coalesce(edge_index, edge_attr, N, N)\n",
    "        \"\"\"\n",
    "\n",
    "        # cохраним SMILES в виде ascii и объединим это в torch tensor\n",
    "        name = str(Chem.MolToSmiles(mol))\n",
    "        ascii_name = []\n",
    "        for c in name:\n",
    "            ascii_name.append(int(ord(c)))\n",
    "\n",
    "        if len(ascii_name) > max_len:\n",
    "            max_len = len(ascii_name)\n",
    "            max_name = name\n",
    "\n",
    "        # достраиваем до необходимой длины\n",
    "        for i in range(len(ascii_name), 300):\n",
    "            ascii_name.append(0)\n",
    "\n",
    "        # конвертация в тензор\n",
    "        # ascii_name = torch.tensor([ascii_name], dtype=torch.float).contiguous()\n",
    "\n",
    "\n",
    "        # в итоге получаем следующий данных:\n",
    "        \"\"\"\n",
    "        y = target[i].unsqueeze(0)\n",
    "        data = Data(x=x, pos=pos, edge_index=edge_index, edge_attr=edge_attr, y=y, mol_id=ascii_name)\n",
    "        data_list.append(data)\n",
    "        \"\"\"\n",
    "        \n",
    "        # но как пример, певрнем только молекулярный граф без целевой переменной:\n",
    "        data_list.append([type_idx, aromatic, ring, sp, sp2, sp3, sp3d, sp3d2, num_hs, num_neighbors,\n",
    "            row, col, bond_idx, conj, ring, stereo])\n",
    "        \n",
    "    return data_list\n"
   ]
  },
  {
   "cell_type": "markdown",
   "id": "9015ce30",
   "metadata": {},
   "source": [
    "**Пример генерации графа:**"
   ]
  },
  {
   "cell_type": "code",
   "execution_count": 29,
   "id": "3a5d5b73",
   "metadata": {},
   "outputs": [
    {
     "data": {
      "image/png": "[encoded data removed]",
      "text/plain": [
       "<rdkit.Chem.rdchem.Mol at 0x7fc43bbebee0>"
      ]
     },
     "metadata": {},
     "output_type": "display_data"
    },
    {
     "name": "stdout",
     "output_type": "stream",
     "text": [
      "[1, 4, 3, 3, 5, 0, 0, 0]\n",
      "[0, 0, 0, 0, 0, 0, 0, 0]\n",
      "[False, False, False, False, False, False, False, False, False, False, False, False, False, False]\n",
      "[0, 0, 0, 0, 0, 0, 0, 0]\n",
      "[0, 0, 1, 1, 0, 0, 0, 0]\n",
      "[1, 1, 0, 0, 1, 0, 0, 0]\n",
      "[0, 0, 0, 0, 0, 0, 0, 0]\n",
      "[0, 0, 0, 0, 0, 0, 0, 0]\n",
      "[3, 0, 0, 0, 0, 0, 0, 0]\n",
      "[4, 4, 1, 1, 1, 1, 1, 1]\n",
      "[0, 1, 1, 2, 1, 3, 1, 4, 0, 5, 0, 6, 0, 7]\n",
      "[1, 0, 2, 1, 3, 1, 4, 1, 5, 0, 6, 0, 7, 0]\n",
      "[0, 0, 1, 1, 1, 1, 0, 0, 0, 0, 0, 0, 0, 0]\n",
      "[False, False, False, False, False, False, False, False, False, False, False, False, False, False]\n",
      "[False, False, False, False, False, False, False, False, False, False, False, False, False, False]\n",
      "[rdkit.Chem.rdchem.BondStereo.STEREONONE, rdkit.Chem.rdchem.BondStereo.STEREONONE, rdkit.Chem.rdchem.BondStereo.STEREONONE, rdkit.Chem.rdchem.BondStereo.STEREONONE, rdkit.Chem.rdchem.BondStereo.STEREONONE, rdkit.Chem.rdchem.BondStereo.STEREONONE, rdkit.Chem.rdchem.BondStereo.STEREONONE, rdkit.Chem.rdchem.BondStereo.STEREONONE, rdkit.Chem.rdchem.BondStereo.STEREONONE, rdkit.Chem.rdchem.BondStereo.STEREONONE, rdkit.Chem.rdchem.BondStereo.STEREONONE, rdkit.Chem.rdchem.BondStereo.STEREONONE, rdkit.Chem.rdchem.BondStereo.STEREONONE, rdkit.Chem.rdchem.BondStereo.STEREONONE]\n"
     ]
    }
   ],
   "source": [
    "mol = Chem.MolFromSmiles(molecules_data.iloc[1, 1])\n",
    "AllChem.Compute2DCoords(mol)\n",
    "display(mol)\n",
    "\n",
    "data = generate_graphs(molecules_data)\n",
    "for d in data[1]:\n",
    "    print(d)"
   ]
  },
  {
   "cell_type": "markdown",
   "id": "6f24a68b",
   "metadata": {},
   "source": [
    "Видно, что массив содержит разные типы данных. При конвертации pytorch ternsor за счет закоментированных выше строк все было бы приведено к одному типу"
   ]
  },
  {
   "cell_type": "markdown",
   "id": "d33228f9",
   "metadata": {},
   "source": [
    "**Пример разбиения данных данных:**"
   ]
  },
  {
   "cell_type": "code",
   "execution_count": 33,
   "id": "e8af7277",
   "metadata": {},
   "outputs": [
    {
     "name": "stdout",
     "output_type": "stream",
     "text": [
      "Данные для обучения содержат 577 молекул, тестовый набор - 65 молекул\n"
     ]
    }
   ],
   "source": [
    "# для разбиения данных используем рандомизированный массив индексов от 0 до 641\n",
    "permuted_indices = np.random.permutation(np.arange(molecules_data.shape[0]))\n",
    "\n",
    "# разбиение данных проводим в соотношении 9 к 1\n",
    "train_index = permuted_indices[: int(molecules_data.shape[0] * 0.9)] # деление произведем по индексу\n",
    "x_train = generate_graphs(molecules_data.iloc[train_index])\n",
    "y_train = molecules_data.iloc[train_index].expt\n",
    "\n",
    "# тестовая выборка - оставшиеся 10 % \n",
    "test_index = permuted_indices[int(molecules_data.shape[0] * 0.9) :]\n",
    "x_test = generate_graphs(molecules_data.iloc[test_index])\n",
    "y_test = molecules_data.iloc[test_index].expt\n",
    "\n",
    "print(f'Данные для обучения содержат {len(y_train)} молекул, тестовый набор - {len(y_test)} молекул')"
   ]
  },
  {
   "cell_type": "code",
   "execution_count": 38,
   "id": "585cf1dc",
   "metadata": {},
   "outputs": [
    {
     "data": {
      "text/plain": [
       "<AxesSubplot:xlabel='expt', ylabel='Count'>"
      ]
     },
     "execution_count": 38,
     "metadata": {},
     "output_type": "execute_result"
    },
    {
     "data": {
      "image/png": "[encoded data removed]",
      "text/plain": [
       "<Figure size 1008x504 with 2 Axes>"
      ]
     },
     "metadata": {
      "needs_background": "light"
     },
     "output_type": "display_data"
    }
   ],
   "source": [
    "# сравним распределение данных в полученных подвыборках с исходной\n",
    "fig, ax = plt.subplots(1, 2, figsize=(14, 7))\n",
    "ax = ax.flatten()\n",
    "\n",
    "sns.histplot(y_train, binwidth=0.5, kde=True, ax=ax[0])\n",
    "sns.histplot(y_test, binwidth=0.5, kde=True, ax=ax[1])"
   ]
  },
  {
   "cell_type": "markdown",
   "id": "aec2ebbf",
   "metadata": {},
   "source": [
    "Обучающая и тестовая выборки выходят весьма репрезентативными"
   ]
  }
 ],
 "metadata": {
  "kernelspec": {
   "display_name": "chemoinf",
   "language": "python",
   "name": "chemoinf"
  },
  "language_info": {
   "codemirror_mode": {
    "name": "ipython",
    "version": 3
   },
   "file_extension": ".py",
   "mimetype": "text/x-python",
   "name": "python",
   "nbconvert_exporter": "python",
   "pygments_lexer": "ipython3",
   "version": "3.7.12"
  }
 },
 "nbformat": 4,
 "nbformat_minor": 5
}
